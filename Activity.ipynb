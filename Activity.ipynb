{
 "cells": [
  {
   "cell_type": "code",
   "execution_count": 8,
   "id": "0fdc2b03-9923-4fba-9868-5e1cdac38924",
   "metadata": {},
   "outputs": [],
   "source": [
    "# Import libraries\n",
    "import pandas as pd\n",
    "from sklearn.preprocessing import StandardScaler, OneHotEncoder \n",
    "from sklearn.model_selection import train_test_split\n",
    "from sklearn.linear_model import RidgeClassifier\n",
    "from sklearn.linear_model import LogisticRegression\n",
    "from sklearn.ensemble import RandomForestClassifier\n",
    "from sklearn.metrics import classification_report, confusion_matrix"
   ]
  },
  {
   "cell_type": "code",
   "execution_count": 2,
   "id": "f6ff5b5a-4fcf-4f26-99b7-0fbdeb73f0da",
   "metadata": {},
   "outputs": [],
   "source": [
    "# Load data\n",
    "demographics_df = pd.read_csv('data/telecom_demographics.csv')\n",
    "usage_df = pd.read_csv('data/telecom_usage.csv')"
   ]
  },
  {
   "cell_type": "code",
   "execution_count": 3,
   "id": "30a3ecc6-51e6-4bf8-b85f-de50bf592e28",
   "metadata": {},
   "outputs": [],
   "source": [
    "# Merge data\n",
    "churn_df = demographics_df.merge(usage_df, on='customer_id', how = 'inner')"
   ]
  },
  {
   "cell_type": "code",
   "execution_count": 4,
   "id": "adfcc485-b002-462d-a82b-84d6ffc584b9",
   "metadata": {},
   "outputs": [
    {
     "name": "stdout",
     "output_type": "stream",
     "text": [
      "Churn Rate:\n",
      " churn\n",
      "0    0.799538\n",
      "1    0.200462\n",
      "Name: proportion, dtype: float64\n",
      "\n",
      "Data Types and Null Counts:\n",
      "<class 'pandas.core.frame.DataFrame'>\n",
      "RangeIndex: 6500 entries, 0 to 6499\n",
      "Data columns (total 14 columns):\n",
      " #   Column              Non-Null Count  Dtype \n",
      "---  ------              --------------  ----- \n",
      " 0   customer_id         6500 non-null   int64 \n",
      " 1   telecom_partner     6500 non-null   object\n",
      " 2   gender              6500 non-null   object\n",
      " 3   age                 6500 non-null   int64 \n",
      " 4   state               6500 non-null   object\n",
      " 5   city                6500 non-null   object\n",
      " 6   pincode             6500 non-null   int64 \n",
      " 7   registration_event  6500 non-null   object\n",
      " 8   num_dependents      6500 non-null   int64 \n",
      " 9   estimated_salary    6500 non-null   int64 \n",
      " 10  calls_made          6500 non-null   int64 \n",
      " 11  sms_sent            6500 non-null   int64 \n",
      " 12  data_used           6500 non-null   int64 \n",
      " 13  churn               6500 non-null   int64 \n",
      "dtypes: int64(9), object(5)\n",
      "memory usage: 711.1+ KB\n",
      "None\n"
     ]
    }
   ],
   "source": [
    "# EDA\n",
    "churn_rate = churn_df['churn'].value_counts(normalize=True)\n",
    "print(\"Churn Rate:\\n\", churn_rate)\n",
    "\n",
    "print(\"\\nData Types and Null Counts:\")\n",
    "print(churn_df.info())"
   ]
  },
  {
   "cell_type": "code",
   "execution_count": 5,
   "id": "f9175dd1-c474-4483-b8bf-39a40a668c8b",
   "metadata": {},
   "outputs": [],
   "source": [
    "# Preprocess Data\n",
    "# One-hot encode categorical features\n",
    "categorical_features = ['telecom_partner', 'gender', 'state', 'city', 'registration_event']\n",
    "churn_df_encoded = pd.get_dummies(churn_df, columns=categorical_features, drop_first=True)\n",
    "\n",
    "# Feature scaling (excluding identifier and target columns)\n",
    "features = churn_df_encoded.drop(['customer_id', 'churn'], axis=1)\n",
    "scaler = StandardScaler()\n",
    "features_scaled = scaler.fit_transform(features)\n",
    "\n",
    "# Target variable\n",
    "target = churn_df_encoded['churn']"
   ]
  },
  {
   "cell_type": "code",
   "execution_count": 6,
   "id": "283dd8d4-0e50-4dc8-a477-7f24ed0bef90",
   "metadata": {},
   "outputs": [],
   "source": [
    "# Train Test Split\n",
    "X_train, X_test, y_train, y_test = train_test_split(features_scaled, target, test_size=0.2, random_state=42)"
   ]
  },
  {
   "cell_type": "code",
   "execution_count": 9,
   "id": "2ccb53cf-2336-4ca2-999b-f8d1fbfab909",
   "metadata": {},
   "outputs": [
    {
     "name": "stdout",
     "output_type": "stream",
     "text": [
      "\n",
      "Logistic Regression - Confusion Matrix:\n",
      "[[912 115]\n",
      " [243  30]]\n",
      "\n",
      "Classification Report (Logistic Regression):\n",
      "              precision    recall  f1-score   support\n",
      "\n",
      "           0       0.79      0.89      0.84      1027\n",
      "           1       0.21      0.11      0.14       273\n",
      "\n",
      "    accuracy                           0.72      1300\n",
      "   macro avg       0.50      0.50      0.49      1300\n",
      "weighted avg       0.67      0.72      0.69      1300\n",
      "\n"
     ]
    }
   ],
   "source": [
    "# Model: Logistic Regression\n",
    "log_reg_model = LogisticRegression(random_state=42)\n",
    "log_reg_model.fit(X_train, y_train)\n",
    "\n",
    "log_reg_preds = log_reg_model.predict(X_test)\n",
    "\n",
    "print(\"\\nLogistic Regression - Confusion Matrix:\")\n",
    "print(confusion_matrix(y_test, log_reg_preds))\n",
    "print(\"\\nClassification Report (Logistic Regression):\")\n",
    "print(classification_report(y_test, log_reg_preds))"
   ]
  },
  {
   "cell_type": "code",
   "execution_count": 10,
   "id": "d9eb46e9-4967-43e5-9684-9638b7d2029d",
   "metadata": {},
   "outputs": [
    {
     "name": "stdout",
     "output_type": "stream",
     "text": [
      "\n",
      "Random Forest - Confusion Matrix:\n",
      "[[1027    0]\n",
      " [ 272    1]]\n",
      "\n",
      "Classification Report (Random Forest):\n",
      "              precision    recall  f1-score   support\n",
      "\n",
      "           0       0.79      1.00      0.88      1027\n",
      "           1       1.00      0.00      0.01       273\n",
      "\n",
      "    accuracy                           0.79      1300\n",
      "   macro avg       0.90      0.50      0.45      1300\n",
      "weighted avg       0.83      0.79      0.70      1300\n",
      "\n"
     ]
    }
   ],
   "source": [
    "# Model: Random Forest\n",
    "rf_model = RandomForestClassifier(random_state=42)\n",
    "rf_model.fit(X_train, y_train)\n",
    "\n",
    "rf_preds = rf_model.predict(X_test)\n",
    "\n",
    "print(\"\\nRandom Forest - Confusion Matrix:\")\n",
    "print(confusion_matrix(y_test, rf_preds))\n",
    "print(\"\\nClassification Report (Random Forest):\")\n",
    "print(classification_report(y_test, rf_preds))"
   ]
  }
 ],
 "metadata": {
  "kernelspec": {
   "display_name": "Python 3 (ipykernel)",
   "language": "python",
   "name": "python3"
  },
  "language_info": {
   "codemirror_mode": {
    "name": "ipython",
    "version": 3
   },
   "file_extension": ".py",
   "mimetype": "text/x-python",
   "name": "python",
   "nbconvert_exporter": "python",
   "pygments_lexer": "ipython3",
   "version": "3.10.12"
  }
 },
 "nbformat": 4,
 "nbformat_minor": 5
}
